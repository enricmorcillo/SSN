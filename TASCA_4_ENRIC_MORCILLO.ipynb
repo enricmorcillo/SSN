{
  "nbformat": 4,
  "nbformat_minor": 0,
  "metadata": {
    "colab": {
      "provenance": [],
      "authorship_tag": "ABX9TyNxeH6e3/9P7sDGHKsjmdYH",
      "include_colab_link": true
    },
    "kernelspec": {
      "name": "python3",
      "display_name": "Python 3"
    },
    "language_info": {
      "name": "python"
    }
  },
  "cells": [
    {
      "cell_type": "markdown",
      "metadata": {
        "id": "view-in-github",
        "colab_type": "text"
      },
      "source": [
        "<a href=\"https://colab.research.google.com/github/enricmorcillo/SSN/blob/main/TASCA_4_ENRIC_MORCILLO.ipynb\" target=\"_parent\"><img src=\"https://colab.research.google.com/assets/colab-badge.svg\" alt=\"Open In Colab\"/></a>"
      ]
    },
    {
      "cell_type": "markdown",
      "source": [
        "ENTREGA 4-MONTE CARLO\n",
        "\n",
        "ENRIC MORCILLO GIL\n",
        "\n",
        "SIMULACIÓ DE SISTEMES NANOMÈTRICS\n",
        "\n",
        "---\n",
        "\n"
      ],
      "metadata": {
        "id": "kbnopbv8-VEz"
      }
    },
    {
      "cell_type": "markdown",
      "source": [
        "Comencem important les llibreries necessàries"
      ],
      "metadata": {
        "id": "uP8WzLoU-oyf"
      }
    },
    {
      "cell_type": "code",
      "source": [
        "import numpy as np\n",
        "import matplotlib.pyplot as plt"
      ],
      "metadata": {
        "id": "wCW-UBq4-tM3"
      },
      "execution_count": 1,
      "outputs": []
    },
    {
      "cell_type": "markdown",
      "source": [
        "Generem el número de punts aleatoris"
      ],
      "metadata": {
        "id": "G2oudlAF_Bc2"
      }
    },
    {
      "cell_type": "code",
      "source": [
        "total_random_points = int(input(\"\\nEnter number of points for Monte Carlo estimate of Pi?\\n>\"))"
      ],
      "metadata": {
        "colab": {
          "base_uri": "https://localhost:8080/"
        },
        "id": "6JH9unlv_FzR",
        "outputId": "d0ea111a-e26e-4cbf-d07e-de078ec4f1e2"
      },
      "execution_count": 9,
      "outputs": [
        {
          "name": "stdout",
          "output_type": "stream",
          "text": [
            "\n",
            "Enter number of points for Monte Carlo estimate of Pi?\n",
            ">100000\n"
          ]
        }
      ]
    },
    {
      "cell_type": "markdown",
      "source": [
        "Definim les coordenades d'origen per contar els punts que es troben dins l'esfera i dins el cub"
      ],
      "metadata": {
        "id": "zi9PRCaM_PR0"
      }
    },
    {
      "cell_type": "code",
      "source": [
        "dins_esfera= 0\n",
        "dins_cub= 0"
      ],
      "metadata": {
        "id": "KXsJgOEp_ZmS"
      },
      "execution_count": 10,
      "outputs": []
    },
    {
      "cell_type": "markdown",
      "source": [
        "Definim els punts dins l'esfera i els que es troben fora l'esfera però dins el cub"
      ],
      "metadata": {
        "id": "3jgfcUSQ_q9R"
      }
    },
    {
      "cell_type": "code",
      "source": [
        "xe = []\n",
        "ye = []\n",
        "ze = []"
      ],
      "metadata": {
        "id": "-YhHOzD2_w5i"
      },
      "execution_count": 11,
      "outputs": []
    },
    {
      "cell_type": "code",
      "source": [
        "xc = []\n",
        "yc = []\n",
        "zc = []"
      ],
      "metadata": {
        "id": "-01Nw384__T-"
      },
      "execution_count": 12,
      "outputs": []
    },
    {
      "cell_type": "markdown",
      "source": [
        "Fem els càlculs"
      ],
      "metadata": {
        "id": "89V_p13YAHLn"
      }
    },
    {
      "cell_type": "code",
      "source": [
        "while (dins_esfera<total_random_points):\n",
        "  #generar punt\n",
        "  x = np.random.uniform(-1.0, 1.0)\n",
        "  y = np.random.uniform(-1.0, 1.0)\n",
        "  z = np.random.uniform(-1.0, 1.0)\n",
        "\n",
        "  #punts dins cub\n",
        "  dins_cub = dins_cub + 1\n",
        "\n",
        "  #mirem si estan dins de l'esfera\n",
        "  if x**2 + y**2 + z**2 <= 1:\n",
        "    dins_esfera = dins_esfera + 1\n",
        "    xe.append(x)\n",
        "    ye.append(y)\n",
        "    ze.append(z)\n",
        "  else:\n",
        "    xc.append(x)\n",
        "    yc.append(y)\n",
        "    zc.append(z)"
      ],
      "metadata": {
        "id": "tYBhAIRLAIev"
      },
      "execution_count": 13,
      "outputs": []
    },
    {
      "cell_type": "markdown",
      "source": [
        "Calculem el ratio de l'esfera/cub"
      ],
      "metadata": {
        "id": "QLh0V7HeAiKn"
      }
    },
    {
      "cell_type": "code",
      "source": [
        "ratio_esfera = dins_esfera / dins_cub\n",
        "#volum del cub es 8\n",
        "volume_approx = 8 * ratio_esfera"
      ],
      "metadata": {
        "id": "q8Fhk1faAv4y"
      },
      "execution_count": 14,
      "outputs": []
    },
    {
      "cell_type": "markdown",
      "source": [
        "Finalment calculem el valor desitjat"
      ],
      "metadata": {
        "id": "b5OOG70lA7hD"
      }
    },
    {
      "cell_type": "code",
      "source": [
        "# Print output\n",
        "print('\\n--------------')\n",
        "print('\\nResult')\n",
        "print('\\nNumber of points inside cube of volume 8:', dins_cub)\n",
        "print('Number of points inside unit sphere:',dins_esfera,)\n",
        "print('Ratio unit sphere/full cube=',ratio_esfera*100,'%')\n",
        "print('\\nEstimated volume of unit sphere =',ratio_esfera,'x Total Volume =', volume_approx)\n",
        "print(' Exact value (Volume sphere):', 4/3 * np.pi)"
      ],
      "metadata": {
        "colab": {
          "base_uri": "https://localhost:8080/"
        },
        "id": "KK96o9ovBBIx",
        "outputId": "72de6692-bf6c-4d57-dc1f-ecd6f1635502"
      },
      "execution_count": 15,
      "outputs": [
        {
          "output_type": "stream",
          "name": "stdout",
          "text": [
            "\n",
            "--------------\n",
            "\n",
            "Result\n",
            "\n",
            "Number of points inside cube of volume 8: 191322\n",
            "Number of points inside unit sphere: 100000\n",
            "Ratio unit sphere/full cube= 52.26790437064216 %\n",
            "\n",
            "Estimated volume of unit sphere = 0.5226790437064216 x Total Volume = 4.181432349651373\n",
            " Exact value (Volume sphere): 4.1887902047863905\n"
          ]
        }
      ]
    }
  ]
}